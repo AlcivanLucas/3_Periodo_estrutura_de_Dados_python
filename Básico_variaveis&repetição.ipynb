{
  "nbformat": 4,
  "nbformat_minor": 0,
  "metadata": {
    "colab": {
      "provenance": [],
      "toc_visible": true,
      "authorship_tag": "ABX9TyM0IOB9I8mba6gUZ7kIBmrk",
      "include_colab_link": true
    },
    "kernelspec": {
      "name": "python3",
      "display_name": "Python 3"
    },
    "language_info": {
      "name": "python"
    }
  },
  "cells": [
    {
      "cell_type": "markdown",
      "metadata": {
        "id": "view-in-github",
        "colab_type": "text"
      },
      "source": [
        "<a href=\"https://colab.research.google.com/github/AlcivanLucas/3_Periodo_estrutura_de_Dados_python/blob/main/B%C3%A1sico_variaveis%26repeti%C3%A7%C3%A3o.ipynb\" target=\"_parent\"><img src=\"https://colab.research.google.com/assets/colab-badge.svg\" alt=\"Open In Colab\"/></a>"
      ]
    },
    {
      "cell_type": "markdown",
      "source": [
        "Icev - Instituto de Ensino Superior\n",
        "\n",
        "**Curso de Engenharia de Software- Disciplina Estrutura de dados Nivelamento em Python**\n",
        "\n",
        "# Introdução bython\n"
      ],
      "metadata": {
        "id": "3OodvibGeg4x"
      }
    },
    {
      "cell_type": "markdown",
      "source": [
        "# Lendo Variáveis"
      ],
      "metadata": {
        "id": "krHXYSTlhvXd"
      }
    },
    {
      "cell_type": "code",
      "source": [
        "readValue = int(input(\" enter in integer\"))"
      ],
      "metadata": {
        "id": "4DL-CEatdUBI"
      },
      "execution_count": null,
      "outputs": []
    },
    {
      "cell_type": "markdown",
      "source": [
        "##if, Else elif"
      ],
      "metadata": {
        "id": "L4L8f2IMdyvr"
      }
    },
    {
      "cell_type": "code",
      "source": [
        "idade = input(\"Digita a idade ai:\")\n",
        "if idade < 18:\n",
        "  print(\"Você é jovem!\")\n",
        "elif  idade >= 18:\n",
        "  print(\"maior de idade\")"
      ],
      "metadata": {
        "id": "mQVp-WJOdrTn"
      },
      "execution_count": null,
      "outputs": []
    },
    {
      "cell_type": "markdown",
      "source": [
        "#Fatorial de bobeira"
      ],
      "metadata": {
        "id": "SFpPC-q2zrkQ"
      }
    },
    {
      "cell_type": "code",
      "execution_count": null,
      "metadata": {
        "id": "csD5STQ7G5IV"
      },
      "outputs": [],
      "source": [
        "def fatorial(n):\n",
        "  fatorial = 1\n",
        "  for num in range(1,n+1):\n",
        "    fatorial = fatorial * num\n",
        "  return fatorial\n",
        "\n",
        "numero = int(input(\"Digite um número: \"))\n",
        "print(fatorial(numero))"
      ]
    },
    {
      "cell_type": "code",
      "source": [],
      "metadata": {
        "id": "JHyIZDZCnB6V"
      },
      "execution_count": null,
      "outputs": []
    }
  ]
}