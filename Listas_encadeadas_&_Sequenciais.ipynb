{
  "nbformat": 4,
  "nbformat_minor": 0,
  "metadata": {
    "colab": {
      "provenance": [],
      "authorship_tag": "ABX9TyOglYPQn9UgsuCo54UOCFtj",
      "include_colab_link": true
    },
    "kernelspec": {
      "name": "python3",
      "display_name": "Python 3"
    },
    "language_info": {
      "name": "python"
    }
  },
  "cells": [
    {
      "cell_type": "markdown",
      "metadata": {
        "id": "view-in-github",
        "colab_type": "text"
      },
      "source": [
        "<a href=\"https://colab.research.google.com/github/AlcivanLucas/3_Periodo_estrutura_de_Dados_python/blob/main/Listas_encadeadas_%26_Sequenciais.ipynb\" target=\"_parent\"><img src=\"https://colab.research.google.com/assets/colab-badge.svg\" alt=\"Open In Colab\"/></a>"
      ]
    },
    {
      "cell_type": "markdown",
      "source": [
        "#1.O que são\n",
        "\n",
        "**• Lista Encadeada:** Uma estrutura de dados dinâmica onde cada elemento (nó) armazena um valor e um ponteiro para o próximo nó. Os nós não são armazenados contíguamente na memória.\n",
        "\n",
        "**• Lista Sequencial:** Uma estrutura de dados estática onde os elementos são armazenados em sequência contígua na memória. Possuem tamanho fixo e acesso direto por índice.\n",
        "\n",
        "#2.Quando usar?\n",
        "\n",
        "**• Lista Encadeada:**\n",
        "\n",
        "* Inserção e remoção frequentes no início ou meio da lista.\n",
        "* Eficiência de memória quando a lista cresce e diminui dinamicamente.\n",
        "\n",
        "**• Lista Sequencial:**\n",
        "\n",
        "* Acesso rápido a elementos por índice.\n",
        "* Armazenamento de dados estáticos.\n",
        "* Implementação mais simples.\n",
        "\n",
        "##3. Como funcionam?\n",
        "\n",
        "• Lista Encadeada:\n",
        "\n",
        "* Os nós são criados dinamicamente e conectados por ponteiros.\n",
        "* O acesso aos elementos é feito através de um nó inicial e percorrendo a lista através dos ponteiros.\n",
        "\n",
        "• Lista Sequencial:\n",
        "\n",
        "* Os elementos são armazenados em um bloco contíguo de memória.\n",
        "* O acesso aos elementos é feito diretamente por índice.\n",
        "\n",
        "##4. Como usar?\n",
        "\n",
        "• Lista Encadeada:\n",
        "\n",
        "* Criar classes para representar os nós e a lista.\n",
        "* Implementar métodos para inserir, remover e acessar elementos.\n",
        "\n",
        "• Lista Sequencial:\n",
        "\n",
        "* Usar a classe `list` do Python.\n",
        "* Adicionar, remover e acessar elementos usando métodos como `append()`\n",
        "\n",
        "##8. Exemplos de uso:\n",
        "\n",
        "    Listas Encadeadas: Implementação de filas, pilhas, árvores binárias.\n",
        "    Listas Sequenciais: Armazenamento de listas de compras, nomes de alunos, etc.\n",
        "  \n",
        "## Exemplo de implementação de lista sequencial\n",
        "\n",
        "\n"
      ],
      "metadata": {
        "id": "IBmQjatY6hNO"
      }
    },
    {
      "cell_type": "code",
      "execution_count": null,
      "metadata": {
        "id": "EFNU5OYJ6KXh"
      },
      "outputs": [],
      "source": [
        "alunos = [\"heitor\",\"Wendrill\",\"João Filho\",\"Maníaco do HxH\"]\n",
        "print(alunos[0])"
      ]
    },
    {
      "cell_type": "code",
      "source": [],
      "metadata": {
        "id": "nIhRqMAP9mcT"
      },
      "execution_count": null,
      "outputs": []
    }
  ]
}